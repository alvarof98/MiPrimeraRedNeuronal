{
 "cells": [
  {
   "cell_type": "code",
   "execution_count": 11,
   "id": "5550e4df",
   "metadata": {},
   "outputs": [],
   "source": [
    "import pandas as pd\n",
    "from keras import models\n",
    "from keras import layers\n",
    "from keras.datasets import boston_housing\n",
    "from keras import models\n",
    "from keras import layers\n",
    "from keras.wrappers.scikit_learn import KerasRegressor\n",
    "from sklearn.preprocessing import PolynomialFeatures\n",
    "from sklearn.pipeline import Pipeline\n",
    "from sklearn.preprocessing import StandardScaler"
   ]
  },
  {
   "cell_type": "code",
   "execution_count": 2,
   "id": "83cba2ac",
   "metadata": {},
   "outputs": [],
   "source": [
    "\n",
    "(train_data, train_targets), (test_data, test_targets) = boston_housing.load_data()"
   ]
  },
  {
   "cell_type": "code",
   "execution_count": 3,
   "id": "086c0ce7",
   "metadata": {},
   "outputs": [
    {
     "data": {
      "text/plain": [
       "(404, 13)"
      ]
     },
     "execution_count": 3,
     "metadata": {},
     "output_type": "execute_result"
    }
   ],
   "source": [
    "train_data.shape"
   ]
  },
  {
   "cell_type": "code",
   "execution_count": 68,
   "id": "800ac3c4",
   "metadata": {},
   "outputs": [],
   "source": [
    "def build_model():\n",
    "    NN_model = models.Sequential()\n",
    "\n",
    "\n",
    "    # The Hidden Layers :\n",
    "    NN_model.add(layers.Dense(500, kernel_initializer='normal',activation='relu'))\n",
    "    NN_model.add(layers.Dense(500, kernel_initializer='normal',activation='relu'))\n",
    "\n",
    "\n",
    "    # The Output Layer :\n",
    "    NN_model.add(layers.Dense(1, kernel_initializer='normal',activation='linear'))\n",
    "\n",
    "    # Compile the network :\n",
    "    NN_model.compile(loss='mean_squared_error', optimizer='adam')\n",
    "    return NN_model"
   ]
  },
  {
   "cell_type": "code",
   "execution_count": 56,
   "id": "6aa60df0",
   "metadata": {},
   "outputs": [
    {
     "name": "stderr",
     "output_type": "stream",
     "text": [
      "C:\\Users\\alvar\\AppData\\Local\\Temp\\ipykernel_15260\\1432073708.py:1: DeprecationWarning: KerasRegressor is deprecated, use Sci-Keras (https://github.com/adriangb/scikeras) instead. See https://www.adriangb.com/scikeras/stable/migration.html for help migrating.\n",
      "  modelo = KerasRegressor(build_fn=build_model, epochs=10, batch_size=100, verbose=1)\n"
     ]
    }
   ],
   "source": [
    "modelo = KerasRegressor(build_fn=build_model, epochs=10, batch_size=100, verbose=1)"
   ]
  },
  {
   "cell_type": "code",
   "execution_count": 57,
   "id": "26b88f44",
   "metadata": {},
   "outputs": [
    {
     "name": "stdout",
     "output_type": "stream",
     "text": [
      "Epoch 1/10\n",
      "5/5 [==============================] - 1s 3ms/step - loss: 549.2844\n",
      "Epoch 2/10\n",
      "5/5 [==============================] - 0s 3ms/step - loss: 451.8837\n",
      "Epoch 3/10\n",
      "5/5 [==============================] - 0s 2ms/step - loss: 307.2083\n",
      "Epoch 4/10\n",
      "5/5 [==============================] - 0s 5ms/step - loss: 154.5908\n",
      "Epoch 5/10\n",
      "5/5 [==============================] - 0s 2ms/step - loss: 135.7250\n",
      "Epoch 6/10\n",
      "5/5 [==============================] - 0s 2ms/step - loss: 141.0052\n",
      "Epoch 7/10\n",
      "5/5 [==============================] - 0s 2ms/step - loss: 94.1629\n",
      "Epoch 8/10\n",
      "5/5 [==============================] - 0s 3ms/step - loss: 102.1917\n",
      "Epoch 9/10\n",
      "5/5 [==============================] - 0s 2ms/step - loss: 88.7050\n",
      "Epoch 10/10\n",
      "5/5 [==============================] - 0s 3ms/step - loss: 78.1605\n"
     ]
    },
    {
     "data": {
      "text/plain": [
       "<keras.callbacks.History at 0x1f7d6d54160>"
      ]
     },
     "execution_count": 57,
     "metadata": {},
     "output_type": "execute_result"
    }
   ],
   "source": [
    "modelo.fit(train_data, train_targets)"
   ]
  },
  {
   "cell_type": "code",
   "execution_count": 39,
   "id": "118d5484",
   "metadata": {},
   "outputs": [
    {
     "name": "stdout",
     "output_type": "stream",
     "text": [
      "2/2 [==============================] - 0s 2ms/step\n"
     ]
    },
    {
     "data": {
      "text/plain": [
       "array([2.2917888, 2.1087728, 1.4868605, 1.9411635, 1.5539354, 1.8844944,\n",
       "       1.8725226, 1.658927 , 1.5568299, 2.682554 , 1.4566928, 1.8030208,\n",
       "       2.1778705, 1.4025655, 2.584467 , 1.7508676, 1.5593278, 1.8707623,\n",
       "       2.6980805, 2.701724 , 2.7134778, 2.1617916, 1.6240777, 1.8607696,\n",
       "       1.7964199, 2.6636426, 1.7547474, 1.5437583, 2.2988796, 1.7300947,\n",
       "       2.0447397, 2.317916 , 1.5812454, 1.5491043, 2.6697605, 2.7978563,\n",
       "       2.0096521, 1.7361778, 2.8127694, 1.7277278, 1.5271026, 1.5505664,\n",
       "       2.756916 , 1.5627167, 1.5165439, 1.4501154, 1.570533 , 1.761603 ,\n",
       "       2.7113452, 1.6052337, 1.613285 , 1.7012038, 2.772548 , 1.8488461,\n",
       "       1.9519428, 1.5448003, 2.7751713, 1.6386423, 1.5975362, 1.6102941,\n",
       "       2.6385133, 2.7466075, 2.4743097, 1.9408182, 1.6538324, 1.8192247,\n",
       "       2.6268458, 1.721264 , 2.7670984, 2.8164487, 2.7129018, 1.6608789,\n",
       "       2.716109 , 2.7916534, 1.7119116, 1.8213892, 1.7627573, 1.5662909,\n",
       "       1.4592491, 2.7617638, 1.7109979, 1.6995081, 1.8335695, 2.7487066,\n",
       "       1.7645949, 1.8698168, 2.7160287, 1.765702 , 1.6642503, 2.6807423,\n",
       "       1.625309 , 1.9691395, 1.74599  , 1.6870534, 1.4532405, 2.0315187,\n",
       "       1.7187096, 2.630937 , 1.7962648, 2.0378723, 1.7827582, 1.7883655],\n",
       "      dtype=float32)"
      ]
     },
     "execution_count": 39,
     "metadata": {},
     "output_type": "execute_result"
    }
   ],
   "source": [
    "y_hat = modelo.predict(test_data)\n",
    "y_hat"
   ]
  },
  {
   "cell_type": "code",
   "execution_count": 40,
   "id": "78c4c06d",
   "metadata": {},
   "outputs": [
    {
     "data": {
      "text/plain": [
       "-2503.9140577928383"
      ]
     },
     "execution_count": 40,
     "metadata": {},
     "output_type": "execute_result"
    }
   ],
   "source": [
    "from sklearn.metrics import r2_score\n",
    "\n",
    "r2_score(y_hat, test_targets)"
   ]
  },
  {
   "cell_type": "code",
   "execution_count": 41,
   "id": "7a8593d8",
   "metadata": {},
   "outputs": [
    {
     "data": {
      "text/plain": [
       "array([ 7.2, 18.8, 19. , 27. , 22.2, 24.5, 31.2, 22.9, 20.5, 23.2, 18.6,\n",
       "       14.5, 17.8, 50. , 20.8, 24.3, 24.2, 19.8, 19.1, 22.7, 12. , 10.2,\n",
       "       20. , 18.5, 20.9, 23. , 27.5, 30.1,  9.5, 22. , 21.2, 14.1, 33.1,\n",
       "       23.4, 20.1,  7.4, 15.4, 23.8, 20.1, 24.5, 33. , 28.4, 14.1, 46.7,\n",
       "       32.5, 29.6, 28.4, 19.8, 20.2, 25. , 35.4, 20.3,  9.7, 14.5, 34.9,\n",
       "       26.6,  7.2, 50. , 32.4, 21.6, 29.8, 13.1, 27.5, 21.2, 23.1, 21.9,\n",
       "       13. , 23.2,  8.1,  5.6, 21.7, 29.6, 19.6,  7. , 26.4, 18.9, 20.9,\n",
       "       28.1, 35.4, 10.2, 24.3, 43.1, 17.6, 15.4, 16.2, 27.1, 21.4, 21.5,\n",
       "       22.4, 25. , 16.6, 18.6, 22. , 42.8, 35.1, 21.5, 36. , 21.9, 24.1,\n",
       "       50. , 26.7, 25. ])"
      ]
     },
     "execution_count": 41,
     "metadata": {},
     "output_type": "execute_result"
    }
   ],
   "source": [
    "test_targets"
   ]
  },
  {
   "cell_type": "code",
   "execution_count": 69,
   "id": "e29c26b2",
   "metadata": {},
   "outputs": [
    {
     "name": "stderr",
     "output_type": "stream",
     "text": [
      "C:\\Users\\alvar\\AppData\\Local\\Temp\\ipykernel_15260\\320764797.py:4: DeprecationWarning: KerasRegressor is deprecated, use Sci-Keras (https://github.com/adriangb/scikeras) instead. See https://www.adriangb.com/scikeras/stable/migration.html for help migrating.\n",
      "  estimators.append(('regressor',KerasRegressor(build_fn=build_model, epochs = 1, batch_size = 1)))\n"
     ]
    }
   ],
   "source": [
    "estimators = []\n",
    "estimators.append(('polonomial', PolynomialFeatures(interaction_only=True, include_bias=False)))\n",
    "estimators.append(('scaler',StandardScaler()))\n",
    "estimators.append(('regressor',KerasRegressor(build_fn=build_model, epochs = 1, batch_size = 1)))"
   ]
  },
  {
   "cell_type": "code",
   "execution_count": 70,
   "id": "2a1c1ec1",
   "metadata": {},
   "outputs": [],
   "source": [
    "pipe = Pipeline(estimators)"
   ]
  },
  {
   "cell_type": "code",
   "execution_count": 71,
   "id": "178e91df",
   "metadata": {},
   "outputs": [
    {
     "data": {
      "text/plain": [
       "[('polonomial', PolynomialFeatures(include_bias=False, interaction_only=True)),\n",
       " ('scaler', StandardScaler()),\n",
       " ('regressor', <keras.wrappers.scikit_learn.KerasRegressor at 0x1f7d96b7a90>)]"
      ]
     },
     "execution_count": 71,
     "metadata": {},
     "output_type": "execute_result"
    }
   ],
   "source": [
    "estimators"
   ]
  },
  {
   "cell_type": "code",
   "execution_count": 72,
   "id": "19e678aa",
   "metadata": {},
   "outputs": [
    {
     "data": {
      "text/plain": [
       "{'memory': None,\n",
       " 'steps': [('polonomial',\n",
       "   PolynomialFeatures(include_bias=False, interaction_only=True)),\n",
       "  ('scaler', StandardScaler()),\n",
       "  ('regressor',\n",
       "   <keras.wrappers.scikit_learn.KerasRegressor at 0x1f7d96b7a90>)],\n",
       " 'verbose': False,\n",
       " 'polonomial': PolynomialFeatures(include_bias=False, interaction_only=True),\n",
       " 'scaler': StandardScaler(),\n",
       " 'regressor': <keras.wrappers.scikit_learn.KerasRegressor at 0x1f7d96b7a90>,\n",
       " 'polonomial__degree': 2,\n",
       " 'polonomial__include_bias': False,\n",
       " 'polonomial__interaction_only': True,\n",
       " 'polonomial__order': 'C',\n",
       " 'scaler__copy': True,\n",
       " 'scaler__with_mean': True,\n",
       " 'scaler__with_std': True,\n",
       " 'regressor__epochs': 1,\n",
       " 'regressor__batch_size': 1,\n",
       " 'regressor__build_fn': <function __main__.build_model()>}"
      ]
     },
     "execution_count": 72,
     "metadata": {},
     "output_type": "execute_result"
    }
   ],
   "source": [
    "pipe.get_params()"
   ]
  },
  {
   "cell_type": "code",
   "execution_count": 73,
   "id": "c5f66614",
   "metadata": {},
   "outputs": [],
   "source": [
    "from sklearn.model_selection import GridSearchCV\n",
    "\n",
    "params = {'regressor__epochs': [4,6,8],\n",
    "         'regressor__batch_size': [10,30,60]}\n",
    "\n",
    "grid = GridSearchCV(estimator=pipe,\n",
    "                    cv=4,\n",
    "                    param_grid=params,\n",
    "                    n_jobs=-1,\n",
    "                    verbose = 2)"
   ]
  },
  {
   "cell_type": "code",
   "execution_count": 74,
   "id": "d52615b7",
   "metadata": {},
   "outputs": [
    {
     "name": "stdout",
     "output_type": "stream",
     "text": [
      "Fitting 4 folds for each of 9 candidates, totalling 36 fits\n",
      "Epoch 1/8\n",
      "41/41 [==============================] - 1s 4ms/step - loss: 138.2694\n",
      "Epoch 2/8\n",
      "41/41 [==============================] - 0s 3ms/step - loss: 22.1302\n",
      "Epoch 3/8\n",
      "41/41 [==============================] - 0s 3ms/step - loss: 14.6923\n",
      "Epoch 4/8\n",
      "41/41 [==============================] - 0s 4ms/step - loss: 12.5550\n",
      "Epoch 5/8\n",
      "41/41 [==============================] - 0s 4ms/step - loss: 12.1409\n",
      "Epoch 6/8\n",
      "41/41 [==============================] - 0s 4ms/step - loss: 12.5370\n",
      "Epoch 7/8\n",
      "41/41 [==============================] - 0s 4ms/step - loss: 9.8408\n",
      "Epoch 8/8\n",
      "41/41 [==============================] - 0s 4ms/step - loss: 10.1104\n"
     ]
    }
   ],
   "source": [
    "grid_result = grid.fit(train_data, train_targets)"
   ]
  },
  {
   "cell_type": "code",
   "execution_count": 79,
   "id": "9ba01803",
   "metadata": {},
   "outputs": [
    {
     "name": "stdout",
     "output_type": "stream",
     "text": [
      "11/11 [==============================] - 0s 2ms/step - loss: 20.7668\n",
      "test_acc: -20.766807556152344\n"
     ]
    }
   ],
   "source": [
    "test_acc = grid_result.score(test_data, test_targets)\n",
    "print('test_acc:', test_acc)"
   ]
  },
  {
   "cell_type": "code",
   "execution_count": 76,
   "id": "2aaf5d60",
   "metadata": {},
   "outputs": [
    {
     "name": "stdout",
     "output_type": "stream",
     "text": [
      "11/11 [==============================] - 0s 1ms/step\n"
     ]
    },
    {
     "data": {
      "text/plain": [
       "0.7132697800967936"
      ]
     },
     "execution_count": 76,
     "metadata": {},
     "output_type": "execute_result"
    }
   ],
   "source": [
    "r2_score(grid_result.predict(test_data),test_targets)"
   ]
  },
  {
   "cell_type": "code",
   "execution_count": null,
   "id": "16617026",
   "metadata": {},
   "outputs": [],
   "source": []
  }
 ],
 "metadata": {
  "kernelspec": {
   "display_name": "Python 3 (ipykernel)",
   "language": "python",
   "name": "python3"
  },
  "language_info": {
   "codemirror_mode": {
    "name": "ipython",
    "version": 3
   },
   "file_extension": ".py",
   "mimetype": "text/x-python",
   "name": "python",
   "nbconvert_exporter": "python",
   "pygments_lexer": "ipython3",
   "version": "3.9.12"
  }
 },
 "nbformat": 4,
 "nbformat_minor": 5
}
